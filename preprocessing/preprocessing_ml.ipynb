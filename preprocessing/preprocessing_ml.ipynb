{
 "cells": [
  {
   "cell_type": "markdown",
   "id": "b9055b4a-10bf-4e94-b8b7-212e67836957",
   "metadata": {},
   "source": [
    "#### First look at the data"
   ]
  },
  {
   "cell_type": "code",
   "execution_count": 1,
   "id": "30fa5712-4e75-496a-8ad1-e3fa9b3a7386",
   "metadata": {
    "execution": {
     "iopub.execute_input": "2022-01-24T16:54:29.160642Z",
     "iopub.status.busy": "2022-01-24T16:54:29.160320Z",
     "iopub.status.idle": "2022-01-24T16:54:50.754385Z",
     "shell.execute_reply": "2022-01-24T16:54:50.753758Z",
     "shell.execute_reply.started": "2022-01-24T16:54:29.160564Z"
    },
    "tags": []
   },
   "outputs": [],
   "source": [
    "import pandas as pd"
   ]
  },
  {
   "cell_type": "code",
   "execution_count": 2,
   "id": "7fdf80db-714d-4cc3-8011-7fa98932c9af",
   "metadata": {
    "execution": {
     "iopub.execute_input": "2022-01-24T16:54:50.755772Z",
     "iopub.status.busy": "2022-01-24T16:54:50.755515Z",
     "iopub.status.idle": "2022-01-24T16:54:55.122311Z",
     "shell.execute_reply": "2022-01-24T16:54:55.121677Z",
     "shell.execute_reply.started": "2022-01-24T16:54:50.755748Z"
    },
    "tags": []
   },
   "outputs": [
    {
     "name": "stdout",
     "output_type": "stream",
     "text": [
      "(1000209, 4)\n"
     ]
    },
    {
     "data": {
      "text/html": [
       "<div>\n",
       "<style scoped>\n",
       "    .dataframe tbody tr th:only-of-type {\n",
       "        vertical-align: middle;\n",
       "    }\n",
       "\n",
       "    .dataframe tbody tr th {\n",
       "        vertical-align: top;\n",
       "    }\n",
       "\n",
       "    .dataframe thead th {\n",
       "        text-align: right;\n",
       "    }\n",
       "</style>\n",
       "<table border=\"1\" class=\"dataframe\">\n",
       "  <thead>\n",
       "    <tr style=\"text-align: right;\">\n",
       "      <th></th>\n",
       "      <th>user_id</th>\n",
       "      <th>item_id</th>\n",
       "      <th>rating</th>\n",
       "      <th>timestamp</th>\n",
       "    </tr>\n",
       "  </thead>\n",
       "  <tbody>\n",
       "    <tr>\n",
       "      <th>0</th>\n",
       "      <td>1</td>\n",
       "      <td>1193</td>\n",
       "      <td>5</td>\n",
       "      <td>978300760</td>\n",
       "    </tr>\n",
       "    <tr>\n",
       "      <th>1</th>\n",
       "      <td>1</td>\n",
       "      <td>661</td>\n",
       "      <td>3</td>\n",
       "      <td>978302109</td>\n",
       "    </tr>\n",
       "    <tr>\n",
       "      <th>2</th>\n",
       "      <td>1</td>\n",
       "      <td>914</td>\n",
       "      <td>3</td>\n",
       "      <td>978301968</td>\n",
       "    </tr>\n",
       "    <tr>\n",
       "      <th>3</th>\n",
       "      <td>1</td>\n",
       "      <td>3408</td>\n",
       "      <td>4</td>\n",
       "      <td>978300275</td>\n",
       "    </tr>\n",
       "    <tr>\n",
       "      <th>4</th>\n",
       "      <td>1</td>\n",
       "      <td>2355</td>\n",
       "      <td>5</td>\n",
       "      <td>978824291</td>\n",
       "    </tr>\n",
       "  </tbody>\n",
       "</table>\n",
       "</div>"
      ],
      "text/plain": [
       "   user_id  item_id  rating  timestamp\n",
       "0        1     1193       5  978300760\n",
       "1        1      661       3  978302109\n",
       "2        1      914       3  978301968\n",
       "3        1     3408       4  978300275\n",
       "4        1     2355       5  978824291"
      ]
     },
     "execution_count": 2,
     "metadata": {},
     "output_type": "execute_result"
    }
   ],
   "source": [
    "df = pd.read_csv('../data/ml-1m/ratings.dat', header=None, delimiter='::', engine='python',\n",
    "                 names=['user_id', 'item_id', 'rating', 'timestamp'])\n",
    "print(df.shape)\n",
    "df.head()"
   ]
  },
  {
   "cell_type": "code",
   "execution_count": 3,
   "id": "f6d6ebb8-7ae9-49bf-9767-e3f06b8c6196",
   "metadata": {
    "execution": {
     "iopub.execute_input": "2022-01-24T16:54:55.123657Z",
     "iopub.status.busy": "2022-01-24T16:54:55.123371Z",
     "iopub.status.idle": "2022-01-24T16:54:55.134745Z",
     "shell.execute_reply": "2022-01-24T16:54:55.134151Z",
     "shell.execute_reply.started": "2022-01-24T16:54:55.123626Z"
    },
    "tags": []
   },
   "outputs": [
    {
     "data": {
      "text/plain": [
       "4    348971\n",
       "3    261197\n",
       "5    226310\n",
       "2    107557\n",
       "1     56174\n",
       "Name: rating, dtype: int64"
      ]
     },
     "execution_count": 3,
     "metadata": {},
     "output_type": "execute_result"
    }
   ],
   "source": [
    "df['rating'].value_counts()"
   ]
  },
  {
   "cell_type": "code",
   "execution_count": 4,
   "id": "f8dd46da-e1c3-4d5f-a0ad-77d3ebe9ff18",
   "metadata": {
    "execution": {
     "iopub.execute_input": "2022-01-24T16:54:55.136216Z",
     "iopub.status.busy": "2022-01-24T16:54:55.135998Z",
     "iopub.status.idle": "2022-01-24T16:54:55.146645Z",
     "shell.execute_reply": "2022-01-24T16:54:55.146059Z",
     "shell.execute_reply.started": "2022-01-24T16:54:55.136196Z"
    },
    "tags": []
   },
   "outputs": [
    {
     "data": {
      "text/plain": [
       "20"
      ]
     },
     "execution_count": 4,
     "metadata": {},
     "output_type": "execute_result"
    }
   ],
   "source": [
    "df['user_id'].value_counts().min()"
   ]
  },
  {
   "cell_type": "code",
   "execution_count": 5,
   "id": "79223c69-5d91-405b-912c-b54348b9e690",
   "metadata": {
    "execution": {
     "iopub.execute_input": "2022-01-24T16:54:55.148118Z",
     "iopub.status.busy": "2022-01-24T16:54:55.147662Z",
     "iopub.status.idle": "2022-01-24T16:54:55.159261Z",
     "shell.execute_reply": "2022-01-24T16:54:55.158553Z",
     "shell.execute_reply.started": "2022-01-24T16:54:55.148086Z"
    },
    "tags": []
   },
   "outputs": [
    {
     "data": {
      "text/plain": [
       "(6040,)"
      ]
     },
     "execution_count": 5,
     "metadata": {},
     "output_type": "execute_result"
    }
   ],
   "source": [
    "df['user_id'].value_counts().shape"
   ]
  },
  {
   "cell_type": "code",
   "execution_count": 6,
   "id": "915cbb56-14ed-431d-be06-1456bd10d300",
   "metadata": {
    "execution": {
     "iopub.execute_input": "2022-01-24T16:54:55.160353Z",
     "iopub.status.busy": "2022-01-24T16:54:55.160020Z",
     "iopub.status.idle": "2022-01-24T16:54:55.169777Z",
     "shell.execute_reply": "2022-01-24T16:54:55.169043Z",
     "shell.execute_reply.started": "2022-01-24T16:54:55.160333Z"
    },
    "tags": []
   },
   "outputs": [
    {
     "data": {
      "text/plain": [
       "1"
      ]
     },
     "execution_count": 6,
     "metadata": {},
     "output_type": "execute_result"
    }
   ],
   "source": [
    "df['item_id'].value_counts().min()"
   ]
  },
  {
   "cell_type": "code",
   "execution_count": 7,
   "id": "1500baca-9c62-4ab5-8a36-2a0baab180e0",
   "metadata": {
    "execution": {
     "iopub.execute_input": "2022-01-24T16:54:55.171088Z",
     "iopub.status.busy": "2022-01-24T16:54:55.170806Z",
     "iopub.status.idle": "2022-01-24T16:54:55.180803Z",
     "shell.execute_reply": "2022-01-24T16:54:55.180134Z",
     "shell.execute_reply.started": "2022-01-24T16:54:55.171053Z"
    },
    "tags": []
   },
   "outputs": [
    {
     "data": {
      "text/plain": [
       "0.8796546141392336"
      ]
     },
     "execution_count": 7,
     "metadata": {},
     "output_type": "execute_result"
    }
   ],
   "source": [
    "(df['item_id'].value_counts() >= 10).mean()"
   ]
  },
  {
   "cell_type": "markdown",
   "id": "59a8aae4-ab0e-48da-96a7-197590b00dfa",
   "metadata": {},
   "source": [
    "#### Users with few reviews - don't exist\n",
    "\n",
    "By design the dataset includes only users with at least 20 reviews"
   ]
  },
  {
   "cell_type": "markdown",
   "id": "59868c75-c4aa-463d-84fc-2b0547f210ab",
   "metadata": {},
   "source": [
    "We don't filter this dataset - to be able to compare fully to the original paper"
   ]
  },
  {
   "cell_type": "markdown",
   "id": "1122361d-0681-46ae-bcdc-720ed0456a09",
   "metadata": {},
   "source": [
    "#### Moving to 0-based indexing\n",
    "\n",
    "It would be easiest if both user ids and item ids were 0-indexed (e.g. for embedding layers later on, etc.)"
   ]
  },
  {
   "cell_type": "code",
   "execution_count": 10,
   "id": "8fe2b386-19af-4b58-87bb-6a7ff7deb9b5",
   "metadata": {
    "execution": {
     "iopub.execute_input": "2022-01-24T16:54:55.241734Z",
     "iopub.status.busy": "2022-01-24T16:54:55.241514Z",
     "iopub.status.idle": "2022-01-24T16:54:55.254000Z",
     "shell.execute_reply": "2022-01-24T16:54:55.253397Z",
     "shell.execute_reply.started": "2022-01-24T16:54:55.241713Z"
    },
    "tags": []
   },
   "outputs": [
    {
     "data": {
      "text/plain": [
       "(6040, 6040)"
      ]
     },
     "execution_count": 10,
     "metadata": {},
     "output_type": "execute_result"
    }
   ],
   "source": [
    "df['user_id'].max(), df['user_id'].nunique()"
   ]
  },
  {
   "cell_type": "code",
   "execution_count": 11,
   "id": "4944c265-78a0-4117-8e51-e6da71510993",
   "metadata": {
    "execution": {
     "iopub.execute_input": "2022-01-24T16:54:55.255279Z",
     "iopub.status.busy": "2022-01-24T16:54:55.255006Z",
     "iopub.status.idle": "2022-01-24T16:54:55.267465Z",
     "shell.execute_reply": "2022-01-24T16:54:55.266952Z",
     "shell.execute_reply.started": "2022-01-24T16:54:55.255247Z"
    },
    "tags": []
   },
   "outputs": [
    {
     "data": {
      "text/plain": [
       "(3952, 3706)"
      ]
     },
     "execution_count": 11,
     "metadata": {},
     "output_type": "execute_result"
    }
   ],
   "source": [
    "df['item_id'].max(), df['item_id'].nunique()"
   ]
  },
  {
   "cell_type": "markdown",
   "id": "9d7d8970-5726-4c42-b651-021690bcc2a1",
   "metadata": {},
   "source": [
    "We see that this is currently not the case, so let's take care of this"
   ]
  },
  {
   "cell_type": "code",
   "execution_count": 12,
   "id": "fba3d833-3be2-417f-8aa6-8f0304c775d8",
   "metadata": {
    "execution": {
     "iopub.execute_input": "2022-01-24T16:54:55.268367Z",
     "iopub.status.busy": "2022-01-24T16:54:55.268209Z",
     "iopub.status.idle": "2022-01-24T16:54:55.283701Z",
     "shell.execute_reply": "2022-01-24T16:54:55.283249Z",
     "shell.execute_reply.started": "2022-01-24T16:54:55.268349Z"
    },
    "tags": []
   },
   "outputs": [],
   "source": [
    "user2idx = dict(zip(df['user_id'].unique().tolist(), range(df['user_id'].nunique())))"
   ]
  },
  {
   "cell_type": "code",
   "execution_count": 13,
   "id": "0ba6e45b-aa80-4b83-8868-eb36c9a7274c",
   "metadata": {
    "execution": {
     "iopub.execute_input": "2022-01-24T16:54:55.284632Z",
     "iopub.status.busy": "2022-01-24T16:54:55.284420Z",
     "iopub.status.idle": "2022-01-24T16:54:55.298270Z",
     "shell.execute_reply": "2022-01-24T16:54:55.297826Z",
     "shell.execute_reply.started": "2022-01-24T16:54:55.284611Z"
    },
    "tags": []
   },
   "outputs": [],
   "source": [
    "item2idx = dict(zip(df['item_id'].unique().tolist(), range(df['item_id'].nunique())))"
   ]
  },
  {
   "cell_type": "code",
   "execution_count": 14,
   "id": "f67121d0-1d44-4c9e-8f16-39926ee6b562",
   "metadata": {
    "execution": {
     "iopub.execute_input": "2022-01-24T16:54:55.299796Z",
     "iopub.status.busy": "2022-01-24T16:54:55.299560Z",
     "iopub.status.idle": "2022-01-24T16:54:55.805886Z",
     "shell.execute_reply": "2022-01-24T16:54:55.805354Z",
     "shell.execute_reply.started": "2022-01-24T16:54:55.299775Z"
    },
    "tags": []
   },
   "outputs": [],
   "source": [
    "df['user_id'] = df['user_id'].apply(user2idx.get)\n",
    "df['item_id'] = df['item_id'].apply(item2idx.get)"
   ]
  },
  {
   "cell_type": "code",
   "execution_count": 15,
   "id": "488c6000-89c8-46b4-909b-a75d80b970e9",
   "metadata": {
    "execution": {
     "iopub.execute_input": "2022-01-24T16:54:55.806936Z",
     "iopub.status.busy": "2022-01-24T16:54:55.806698Z",
     "iopub.status.idle": "2022-01-24T16:54:55.814664Z",
     "shell.execute_reply": "2022-01-24T16:54:55.814058Z",
     "shell.execute_reply.started": "2022-01-24T16:54:55.806916Z"
    },
    "tags": []
   },
   "outputs": [
    {
     "data": {
      "text/html": [
       "<div>\n",
       "<style scoped>\n",
       "    .dataframe tbody tr th:only-of-type {\n",
       "        vertical-align: middle;\n",
       "    }\n",
       "\n",
       "    .dataframe tbody tr th {\n",
       "        vertical-align: top;\n",
       "    }\n",
       "\n",
       "    .dataframe thead th {\n",
       "        text-align: right;\n",
       "    }\n",
       "</style>\n",
       "<table border=\"1\" class=\"dataframe\">\n",
       "  <thead>\n",
       "    <tr style=\"text-align: right;\">\n",
       "      <th></th>\n",
       "      <th>user_id</th>\n",
       "      <th>item_id</th>\n",
       "      <th>rating</th>\n",
       "      <th>timestamp</th>\n",
       "    </tr>\n",
       "  </thead>\n",
       "  <tbody>\n",
       "    <tr>\n",
       "      <th>0</th>\n",
       "      <td>0</td>\n",
       "      <td>0</td>\n",
       "      <td>5</td>\n",
       "      <td>978300760</td>\n",
       "    </tr>\n",
       "    <tr>\n",
       "      <th>1</th>\n",
       "      <td>0</td>\n",
       "      <td>1</td>\n",
       "      <td>3</td>\n",
       "      <td>978302109</td>\n",
       "    </tr>\n",
       "    <tr>\n",
       "      <th>2</th>\n",
       "      <td>0</td>\n",
       "      <td>2</td>\n",
       "      <td>3</td>\n",
       "      <td>978301968</td>\n",
       "    </tr>\n",
       "    <tr>\n",
       "      <th>3</th>\n",
       "      <td>0</td>\n",
       "      <td>3</td>\n",
       "      <td>4</td>\n",
       "      <td>978300275</td>\n",
       "    </tr>\n",
       "    <tr>\n",
       "      <th>4</th>\n",
       "      <td>0</td>\n",
       "      <td>4</td>\n",
       "      <td>5</td>\n",
       "      <td>978824291</td>\n",
       "    </tr>\n",
       "    <tr>\n",
       "      <th>5</th>\n",
       "      <td>0</td>\n",
       "      <td>5</td>\n",
       "      <td>3</td>\n",
       "      <td>978302268</td>\n",
       "    </tr>\n",
       "    <tr>\n",
       "      <th>6</th>\n",
       "      <td>0</td>\n",
       "      <td>6</td>\n",
       "      <td>5</td>\n",
       "      <td>978302039</td>\n",
       "    </tr>\n",
       "    <tr>\n",
       "      <th>7</th>\n",
       "      <td>0</td>\n",
       "      <td>7</td>\n",
       "      <td>5</td>\n",
       "      <td>978300719</td>\n",
       "    </tr>\n",
       "    <tr>\n",
       "      <th>8</th>\n",
       "      <td>0</td>\n",
       "      <td>8</td>\n",
       "      <td>4</td>\n",
       "      <td>978302268</td>\n",
       "    </tr>\n",
       "    <tr>\n",
       "      <th>9</th>\n",
       "      <td>0</td>\n",
       "      <td>9</td>\n",
       "      <td>4</td>\n",
       "      <td>978301368</td>\n",
       "    </tr>\n",
       "    <tr>\n",
       "      <th>10</th>\n",
       "      <td>0</td>\n",
       "      <td>10</td>\n",
       "      <td>5</td>\n",
       "      <td>978824268</td>\n",
       "    </tr>\n",
       "    <tr>\n",
       "      <th>11</th>\n",
       "      <td>0</td>\n",
       "      <td>11</td>\n",
       "      <td>4</td>\n",
       "      <td>978301752</td>\n",
       "    </tr>\n",
       "    <tr>\n",
       "      <th>12</th>\n",
       "      <td>0</td>\n",
       "      <td>12</td>\n",
       "      <td>4</td>\n",
       "      <td>978302281</td>\n",
       "    </tr>\n",
       "    <tr>\n",
       "      <th>13</th>\n",
       "      <td>0</td>\n",
       "      <td>13</td>\n",
       "      <td>4</td>\n",
       "      <td>978302124</td>\n",
       "    </tr>\n",
       "    <tr>\n",
       "      <th>14</th>\n",
       "      <td>0</td>\n",
       "      <td>14</td>\n",
       "      <td>5</td>\n",
       "      <td>978301753</td>\n",
       "    </tr>\n",
       "    <tr>\n",
       "      <th>15</th>\n",
       "      <td>0</td>\n",
       "      <td>15</td>\n",
       "      <td>4</td>\n",
       "      <td>978302188</td>\n",
       "    </tr>\n",
       "    <tr>\n",
       "      <th>16</th>\n",
       "      <td>0</td>\n",
       "      <td>16</td>\n",
       "      <td>3</td>\n",
       "      <td>978824268</td>\n",
       "    </tr>\n",
       "    <tr>\n",
       "      <th>17</th>\n",
       "      <td>0</td>\n",
       "      <td>17</td>\n",
       "      <td>4</td>\n",
       "      <td>978301777</td>\n",
       "    </tr>\n",
       "    <tr>\n",
       "      <th>18</th>\n",
       "      <td>0</td>\n",
       "      <td>18</td>\n",
       "      <td>5</td>\n",
       "      <td>978301713</td>\n",
       "    </tr>\n",
       "    <tr>\n",
       "      <th>19</th>\n",
       "      <td>0</td>\n",
       "      <td>19</td>\n",
       "      <td>4</td>\n",
       "      <td>978302039</td>\n",
       "    </tr>\n",
       "  </tbody>\n",
       "</table>\n",
       "</div>"
      ],
      "text/plain": [
       "    user_id  item_id  rating  timestamp\n",
       "0         0        0       5  978300760\n",
       "1         0        1       3  978302109\n",
       "2         0        2       3  978301968\n",
       "3         0        3       4  978300275\n",
       "4         0        4       5  978824291\n",
       "5         0        5       3  978302268\n",
       "6         0        6       5  978302039\n",
       "7         0        7       5  978300719\n",
       "8         0        8       4  978302268\n",
       "9         0        9       4  978301368\n",
       "10        0       10       5  978824268\n",
       "11        0       11       4  978301752\n",
       "12        0       12       4  978302281\n",
       "13        0       13       4  978302124\n",
       "14        0       14       5  978301753\n",
       "15        0       15       4  978302188\n",
       "16        0       16       3  978824268\n",
       "17        0       17       4  978301777\n",
       "18        0       18       5  978301713\n",
       "19        0       19       4  978302039"
      ]
     },
     "execution_count": 15,
     "metadata": {},
     "output_type": "execute_result"
    }
   ],
   "source": [
    "df.head(20)"
   ]
  },
  {
   "cell_type": "code",
   "execution_count": 16,
   "id": "1e8a4222-35b8-41a4-8ab6-1569a6b58ccf",
   "metadata": {
    "execution": {
     "iopub.execute_input": "2022-01-24T16:54:55.815771Z",
     "iopub.status.busy": "2022-01-24T16:54:55.815575Z",
     "iopub.status.idle": "2022-01-24T16:54:55.825670Z",
     "shell.execute_reply": "2022-01-24T16:54:55.825196Z",
     "shell.execute_reply.started": "2022-01-24T16:54:55.815752Z"
    },
    "tags": []
   },
   "outputs": [
    {
     "data": {
      "text/plain": [
       "user_id    False\n",
       "item_id    False\n",
       "dtype: bool"
      ]
     },
     "execution_count": 16,
     "metadata": {},
     "output_type": "execute_result"
    }
   ],
   "source": [
    "df[['user_id', 'item_id']].isnull().max()"
   ]
  },
  {
   "cell_type": "code",
   "execution_count": 17,
   "id": "dc6889fc-37e8-482e-b198-4fa14bfe0bd4",
   "metadata": {
    "execution": {
     "iopub.execute_input": "2022-01-24T16:54:55.826576Z",
     "iopub.status.busy": "2022-01-24T16:54:55.826368Z",
     "iopub.status.idle": "2022-01-24T16:54:55.836209Z",
     "shell.execute_reply": "2022-01-24T16:54:55.835654Z",
     "shell.execute_reply.started": "2022-01-24T16:54:55.826558Z"
    },
    "tags": []
   },
   "outputs": [
    {
     "data": {
      "text/plain": [
       "(6039, 6040)"
      ]
     },
     "execution_count": 17,
     "metadata": {},
     "output_type": "execute_result"
    }
   ],
   "source": [
    "df['user_id'].max(), df['user_id'].nunique()"
   ]
  },
  {
   "cell_type": "code",
   "execution_count": 18,
   "id": "924fc52b-5baf-4a00-99aa-3a1d67ad58a4",
   "metadata": {
    "execution": {
     "iopub.execute_input": "2022-01-24T16:54:55.837090Z",
     "iopub.status.busy": "2022-01-24T16:54:55.836898Z",
     "iopub.status.idle": "2022-01-24T16:54:55.846941Z",
     "shell.execute_reply": "2022-01-24T16:54:55.846400Z",
     "shell.execute_reply.started": "2022-01-24T16:54:55.837071Z"
    },
    "tags": []
   },
   "outputs": [
    {
     "data": {
      "text/plain": [
       "(3705, 3706)"
      ]
     },
     "execution_count": 18,
     "metadata": {},
     "output_type": "execute_result"
    }
   ],
   "source": [
    "df['item_id'].max(), df['item_id'].nunique()"
   ]
  },
  {
   "cell_type": "markdown",
   "id": "c91dee6a-d7d3-4150-b3df-8ddadc999f19",
   "metadata": {},
   "source": [
    "#### Saving preprocessed dataset"
   ]
  },
  {
   "cell_type": "code",
   "execution_count": 19,
   "id": "282e7669-6122-4d04-bce5-d4281fb6eec0",
   "metadata": {
    "execution": {
     "iopub.execute_input": "2022-01-24T16:54:55.847833Z",
     "iopub.status.busy": "2022-01-24T16:54:55.847631Z",
     "iopub.status.idle": "2022-01-24T16:54:56.973960Z",
     "shell.execute_reply": "2022-01-24T16:54:56.973377Z",
     "shell.execute_reply.started": "2022-01-24T16:54:55.847815Z"
    },
    "tags": []
   },
   "outputs": [],
   "source": [
    "df[['user_id', 'item_id', 'rating']].to_csv('../data/ml_1m_preprocessed.csv', index=False)"
   ]
  }
 ],
 "metadata": {
  "kernelspec": {
   "display_name": "Python 3 (ipykernel)",
   "language": "python",
   "name": "python3"
  },
  "language_info": {
   "codemirror_mode": {
    "name": "ipython",
    "version": 3
   },
   "file_extension": ".py",
   "mimetype": "text/x-python",
   "name": "python",
   "nbconvert_exporter": "python",
   "pygments_lexer": "ipython3",
   "version": "3.9.7"
  }
 },
 "nbformat": 4,
 "nbformat_minor": 5
}
