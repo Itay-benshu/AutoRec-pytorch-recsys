{
 "cells": [
  {
   "cell_type": "markdown",
   "id": "b9055b4a-10bf-4e94-b8b7-212e67836957",
   "metadata": {},
   "source": [
    "#### First look at the data"
   ]
  },
  {
   "cell_type": "code",
   "execution_count": 1,
   "id": "30fa5712-4e75-496a-8ad1-e3fa9b3a7386",
   "metadata": {
    "execution": {
     "iopub.execute_input": "2022-01-31T11:22:13.217063Z",
     "iopub.status.busy": "2022-01-31T11:22:13.216765Z",
     "iopub.status.idle": "2022-01-31T11:22:13.220193Z",
     "shell.execute_reply": "2022-01-31T11:22:13.219462Z",
     "shell.execute_reply.started": "2022-01-31T11:22:13.217041Z"
    },
    "tags": []
   },
   "outputs": [],
   "source": [
    "import pandas as pd"
   ]
  },
  {
   "cell_type": "code",
   "execution_count": 2,
   "id": "80240fbf-a5e0-4c08-9ed5-34a6210d7529",
   "metadata": {
    "execution": {
     "iopub.execute_input": "2022-01-31T11:22:14.631090Z",
     "iopub.status.busy": "2022-01-31T11:22:14.630806Z",
     "iopub.status.idle": "2022-01-31T11:22:16.987295Z",
     "shell.execute_reply": "2022-01-31T11:22:16.986607Z",
     "shell.execute_reply.started": "2022-01-31T11:22:14.631066Z"
    },
    "tags": []
   },
   "outputs": [
    {
     "ename": "FileNotFoundError",
     "evalue": "[Errno 2] No such file or directory: 'data/amazon_music/Digital_Music_5.json'",
     "output_type": "error",
     "traceback": [
      "\u001b[1;31m---------------------------------------------------------------------------\u001b[0m",
      "\u001b[1;31mFileNotFoundError\u001b[0m                         Traceback (most recent call last)",
      "\u001b[1;32m~\\AppData\\Local\\Temp/ipykernel_19868/4220511764.py\u001b[0m in \u001b[0;36m<module>\u001b[1;34m\u001b[0m\n\u001b[0;32m      1\u001b[0m \u001b[1;32mimport\u001b[0m \u001b[0mjson\u001b[0m\u001b[1;33m\u001b[0m\u001b[1;33m\u001b[0m\u001b[0m\n\u001b[0;32m      2\u001b[0m \u001b[0mrows\u001b[0m \u001b[1;33m=\u001b[0m \u001b[1;33m[\u001b[0m\u001b[1;33m]\u001b[0m\u001b[1;33m\u001b[0m\u001b[1;33m\u001b[0m\u001b[0m\n\u001b[1;32m----> 3\u001b[1;33m \u001b[1;32mfor\u001b[0m \u001b[0ml\u001b[0m \u001b[1;32min\u001b[0m \u001b[0mopen\u001b[0m\u001b[1;33m(\u001b[0m\u001b[1;34m'data/amazon_music/Digital_Music_5.json'\u001b[0m\u001b[1;33m)\u001b[0m\u001b[1;33m:\u001b[0m\u001b[1;33m\u001b[0m\u001b[1;33m\u001b[0m\u001b[0m\n\u001b[0m\u001b[0;32m      4\u001b[0m     \u001b[0mrows\u001b[0m\u001b[1;33m.\u001b[0m\u001b[0mappend\u001b[0m\u001b[1;33m(\u001b[0m\u001b[0mjson\u001b[0m\u001b[1;33m.\u001b[0m\u001b[0mloads\u001b[0m\u001b[1;33m(\u001b[0m\u001b[0ml\u001b[0m\u001b[1;33m)\u001b[0m\u001b[1;33m)\u001b[0m\u001b[1;33m\u001b[0m\u001b[1;33m\u001b[0m\u001b[0m\n\u001b[0;32m      5\u001b[0m \u001b[1;33m\u001b[0m\u001b[0m\n",
      "\u001b[1;31mFileNotFoundError\u001b[0m: [Errno 2] No such file or directory: 'data/amazon_music/Digital_Music_5.json'"
     ]
    }
   ],
   "source": [
    "import json\n",
    "rows = []\n",
    "for l in open('amazon_music/Digital_Music_5.json'):\n",
    "    rows.append(json.loads(l))\n",
    "\n",
    "df = pd.DataFrame(rows)\n",
    "print(df.shape)\n",
    "df.head()"
   ]
  },
  {
   "cell_type": "code",
   "execution_count": null,
   "id": "29f23a62-ab40-4a32-84c6-6aa1a0cc1cd5",
   "metadata": {
    "execution": {
     "iopub.execute_input": "2022-01-31T11:22:16.988837Z",
     "iopub.status.busy": "2022-01-31T11:22:16.988548Z",
     "iopub.status.idle": "2022-01-31T11:22:17.009647Z",
     "shell.execute_reply": "2022-01-31T11:22:17.008971Z",
     "shell.execute_reply.started": "2022-01-31T11:22:16.988810Z"
    },
    "tags": []
   },
   "outputs": [],
   "source": [
    "df"
   ]
  },
  {
   "cell_type": "code",
   "execution_count": null,
   "id": "f6d6ebb8-7ae9-49bf-9767-e3f06b8c6196",
   "metadata": {
    "execution": {
     "iopub.execute_input": "2022-01-31T11:22:17.052480Z",
     "iopub.status.busy": "2022-01-31T11:22:17.052249Z",
     "iopub.status.idle": "2022-01-31T11:22:17.059905Z",
     "shell.execute_reply": "2022-01-31T11:22:17.059176Z",
     "shell.execute_reply.started": "2022-01-31T11:22:17.052460Z"
    },
    "tags": []
   },
   "outputs": [],
   "source": [
    "df['overall'].value_counts()"
   ]
  },
  {
   "cell_type": "code",
   "execution_count": null,
   "id": "f8dd46da-e1c3-4d5f-a0ad-77d3ebe9ff18",
   "metadata": {
    "execution": {
     "iopub.execute_input": "2022-01-31T11:22:17.372879Z",
     "iopub.status.busy": "2022-01-31T11:22:17.372596Z",
     "iopub.status.idle": "2022-01-31T11:22:17.459916Z",
     "shell.execute_reply": "2022-01-31T11:22:17.459206Z",
     "shell.execute_reply.started": "2022-01-31T11:22:17.372857Z"
    },
    "tags": []
   },
   "outputs": [],
   "source": [
    "df['reviewerID'].value_counts().min(), df['reviewerID'].value_counts().max()"
   ]
  },
  {
   "cell_type": "markdown",
   "id": "c01d2c82-b34b-4dc8-98ab-b310453d30d3",
   "metadata": {},
   "source": [
    "This dataset is meant to be pre-filtered to only include items/users with atleast 5 repeats, yet it seems a little mistakes slipped through. \n",
    "We'll enforce the filters ourselves."
   ]
  },
  {
   "cell_type": "code",
   "execution_count": null,
   "id": "915cbb56-14ed-431d-be06-1456bd10d300",
   "metadata": {
    "execution": {
     "iopub.execute_input": "2022-01-31T11:22:17.949171Z",
     "iopub.status.busy": "2022-01-31T11:22:17.948889Z",
     "iopub.status.idle": "2022-01-31T11:22:18.021301Z",
     "shell.execute_reply": "2022-01-31T11:22:18.020691Z",
     "shell.execute_reply.started": "2022-01-31T11:22:17.949146Z"
    },
    "tags": []
   },
   "outputs": [],
   "source": [
    "df['asin'].value_counts().min(), df['asin'].value_counts().max()"
   ]
  },
  {
   "cell_type": "code",
   "execution_count": null,
   "id": "d7123fc6-ac31-4f3e-ae72-96574eadd1de",
   "metadata": {
    "execution": {
     "iopub.execute_input": "2022-01-31T11:22:18.212859Z",
     "iopub.status.busy": "2022-01-31T11:22:18.212576Z",
     "iopub.status.idle": "2022-01-31T11:22:18.252066Z",
     "shell.execute_reply": "2022-01-31T11:22:18.251499Z",
     "shell.execute_reply.started": "2022-01-31T11:22:18.212834Z"
    },
    "tags": []
   },
   "outputs": [],
   "source": [
    "df['asin'].value_counts()"
   ]
  },
  {
   "cell_type": "code",
   "execution_count": null,
   "id": "1500baca-9c62-4ab5-8a36-2a0baab180e0",
   "metadata": {
    "execution": {
     "iopub.execute_input": "2022-01-31T11:22:18.496838Z",
     "iopub.status.busy": "2022-01-31T11:22:18.496556Z",
     "iopub.status.idle": "2022-01-31T11:22:18.699273Z",
     "shell.execute_reply": "2022-01-31T11:22:18.698580Z",
     "shell.execute_reply.started": "2022-01-31T11:22:18.496817Z"
    },
    "tags": []
   },
   "outputs": [],
   "source": [
    "item_counts = df['asin'].value_counts()\n",
    "user_counts = df['reviewerID'].value_counts()\n",
    "items_to_remove = item_counts[item_counts < 5].index.tolist()\n",
    "users_to_remove = user_counts[user_counts < 5].index.tolist()\n",
    "\n",
    "filtered_df = df[(~df['asin'].isin(items_to_remove)) & (~df['reviewerID'].isin(users_to_remove))].copy()\n",
    "print(filtered_df.shape, df.shape)"
   ]
  },
  {
   "cell_type": "code",
   "execution_count": null,
   "id": "83ca5bb3-c366-4531-b178-521e569f073c",
   "metadata": {
    "execution": {
     "iopub.execute_input": "2022-01-31T11:22:19.218908Z",
     "iopub.status.busy": "2022-01-31T11:22:19.218624Z",
     "iopub.status.idle": "2022-01-31T11:22:19.315593Z",
     "shell.execute_reply": "2022-01-31T11:22:19.314940Z",
     "shell.execute_reply.started": "2022-01-31T11:22:19.218885Z"
    },
    "tags": []
   },
   "outputs": [],
   "source": [
    "# Is it actually legit to do filtering?\n",
    "filtered_df = df.copy()\n",
    "\n",
    "# Renaming for ease of matching to ml\n",
    "filtered_df = filtered_df.rename(columns={'asin':'item_id', 'reviewerID':'user_id', 'overall':'rating'})"
   ]
  },
  {
   "cell_type": "markdown",
   "id": "1122361d-0681-46ae-bcdc-720ed0456a09",
   "metadata": {},
   "source": [
    "#### Moving to 0-based indexing\n",
    "\n",
    "It would be easiest if both user ids and item ids were 0-indexed (e.g. for embedding layers later on, etc.)"
   ]
  },
  {
   "cell_type": "code",
   "execution_count": null,
   "id": "fba3d833-3be2-417f-8aa6-8f0304c775d8",
   "metadata": {
    "execution": {
     "iopub.execute_input": "2022-01-31T11:22:21.079015Z",
     "iopub.status.busy": "2022-01-31T11:22:21.078719Z",
     "iopub.status.idle": "2022-01-31T11:22:21.186086Z",
     "shell.execute_reply": "2022-01-31T11:22:21.185431Z",
     "shell.execute_reply.started": "2022-01-31T11:22:21.078994Z"
    },
    "tags": []
   },
   "outputs": [],
   "source": [
    "user2idx = dict(zip(filtered_df['user_id'].unique().tolist(), range(filtered_df['user_id'].nunique())))"
   ]
  },
  {
   "cell_type": "code",
   "execution_count": null,
   "id": "0ba6e45b-aa80-4b83-8868-eb36c9a7274c",
   "metadata": {
    "execution": {
     "iopub.execute_input": "2022-01-31T11:22:21.382960Z",
     "iopub.status.busy": "2022-01-31T11:22:21.382667Z",
     "iopub.status.idle": "2022-01-31T11:22:21.483347Z",
     "shell.execute_reply": "2022-01-31T11:22:21.482797Z",
     "shell.execute_reply.started": "2022-01-31T11:22:21.382934Z"
    },
    "tags": []
   },
   "outputs": [],
   "source": [
    "item2idx = dict(zip(filtered_df['item_id'].unique().tolist(), range(filtered_df['item_id'].nunique())))"
   ]
  },
  {
   "cell_type": "code",
   "execution_count": null,
   "id": "f67121d0-1d44-4c9e-8f16-39926ee6b562",
   "metadata": {
    "execution": {
     "iopub.execute_input": "2022-01-31T11:22:21.676992Z",
     "iopub.status.busy": "2022-01-31T11:22:21.676702Z",
     "iopub.status.idle": "2022-01-31T11:22:21.892463Z",
     "shell.execute_reply": "2022-01-31T11:22:21.891909Z",
     "shell.execute_reply.started": "2022-01-31T11:22:21.676968Z"
    },
    "tags": []
   },
   "outputs": [],
   "source": [
    "filtered_df['user_id'] = filtered_df['user_id'].apply(user2idx.get)\n",
    "filtered_df['item_id'] = filtered_df['item_id'].apply(item2idx.get)"
   ]
  },
  {
   "cell_type": "code",
   "execution_count": null,
   "id": "488c6000-89c8-46b4-909b-a75d80b970e9",
   "metadata": {
    "execution": {
     "iopub.execute_input": "2022-01-31T11:22:21.933048Z",
     "iopub.status.busy": "2022-01-31T11:22:21.932750Z",
     "iopub.status.idle": "2022-01-31T11:22:21.949512Z",
     "shell.execute_reply": "2022-01-31T11:22:21.948922Z",
     "shell.execute_reply.started": "2022-01-31T11:22:21.933023Z"
    },
    "tags": []
   },
   "outputs": [],
   "source": [
    "filtered_df.head(10)"
   ]
  },
  {
   "cell_type": "code",
   "execution_count": null,
   "id": "1e8a4222-35b8-41a4-8ab6-1569a6b58ccf",
   "metadata": {
    "execution": {
     "iopub.execute_input": "2022-01-31T11:22:22.617777Z",
     "iopub.status.busy": "2022-01-31T11:22:22.617485Z",
     "iopub.status.idle": "2022-01-31T11:22:22.626486Z",
     "shell.execute_reply": "2022-01-31T11:22:22.625810Z",
     "shell.execute_reply.started": "2022-01-31T11:22:22.617755Z"
    },
    "tags": []
   },
   "outputs": [],
   "source": [
    "filtered_df[['user_id', 'item_id']].isnull().max()"
   ]
  },
  {
   "cell_type": "code",
   "execution_count": null,
   "id": "dc6889fc-37e8-482e-b198-4fa14bfe0bd4",
   "metadata": {
    "execution": {
     "iopub.execute_input": "2022-01-31T11:22:23.635020Z",
     "iopub.status.busy": "2022-01-31T11:22:23.634722Z",
     "iopub.status.idle": "2022-01-31T11:22:23.642963Z",
     "shell.execute_reply": "2022-01-31T11:22:23.642300Z",
     "shell.execute_reply.started": "2022-01-31T11:22:23.634997Z"
    },
    "tags": []
   },
   "outputs": [],
   "source": [
    "filtered_df['user_id'].max(), filtered_df['user_id'].nunique()"
   ]
  },
  {
   "cell_type": "code",
   "execution_count": null,
   "id": "924fc52b-5baf-4a00-99aa-3a1d67ad58a4",
   "metadata": {
    "execution": {
     "iopub.execute_input": "2022-01-31T11:22:24.909038Z",
     "iopub.status.busy": "2022-01-31T11:22:24.908758Z",
     "iopub.status.idle": "2022-01-31T11:22:24.915142Z",
     "shell.execute_reply": "2022-01-31T11:22:24.914614Z",
     "shell.execute_reply.started": "2022-01-31T11:22:24.909012Z"
    },
    "tags": []
   },
   "outputs": [],
   "source": [
    "filtered_df['item_id'].max(), filtered_df['item_id'].nunique()"
   ]
  },
  {
   "cell_type": "markdown",
   "id": "c91dee6a-d7d3-4150-b3df-8ddadc999f19",
   "metadata": {},
   "source": [
    "#### Saving preprocessed dataset and preprocessing metadata"
   ]
  },
  {
   "cell_type": "code",
   "execution_count": null,
   "id": "282e7669-6122-4d04-bce5-d4281fb6eec0",
   "metadata": {
    "execution": {
     "iopub.execute_input": "2022-01-31T11:22:29.323026Z",
     "iopub.status.busy": "2022-01-31T11:22:29.322726Z",
     "iopub.status.idle": "2022-01-31T11:22:29.719648Z",
     "shell.execute_reply": "2022-01-31T11:22:29.719088Z",
     "shell.execute_reply.started": "2022-01-31T11:22:29.322998Z"
    },
    "tags": []
   },
   "outputs": [],
   "source": [
    "filtered_df[['user_id', 'item_id', 'rating']].to_csv('data/am_preprocessed.csv', index=False)\n",
    "json.dump({'user2idx':user2idx, 'item2idx':item2idx}, open('data/am_preprocessing_metadata.json', 'w'))"
   ]
  },
  {
   "cell_type": "code",
   "execution_count": null,
   "id": "12df1a1c-376b-4553-8727-739a95673dce",
   "metadata": {},
   "outputs": [],
   "source": []
  }
 ],
 "metadata": {
  "kernelspec": {
   "display_name": "Python 3 (ipykernel)",
   "language": "python",
   "name": "python3"
  },
  "language_info": {
   "codemirror_mode": {
    "name": "ipython",
    "version": 3
   },
   "file_extension": ".py",
   "mimetype": "text/x-python",
   "name": "python",
   "nbconvert_exporter": "python",
   "pygments_lexer": "ipython3",
   "version": "3.9.7"
  }
 },
 "nbformat": 4,
 "nbformat_minor": 5
}
