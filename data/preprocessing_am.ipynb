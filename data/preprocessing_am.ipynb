{
 "cells": [
  {
   "cell_type": "markdown",
   "id": "b9055b4a-10bf-4e94-b8b7-212e67836957",
   "metadata": {},
   "source": [
    "#### First look at the data"
   ]
  },
  {
   "cell_type": "code",
   "execution_count": 3,
   "id": "30fa5712-4e75-496a-8ad1-e3fa9b3a7386",
   "metadata": {
    "execution": {
     "iopub.execute_input": "2022-01-31T11:22:13.217063Z",
     "iopub.status.busy": "2022-01-31T11:22:13.216765Z",
     "iopub.status.idle": "2022-01-31T11:22:13.220193Z",
     "shell.execute_reply": "2022-01-31T11:22:13.219462Z",
     "shell.execute_reply.started": "2022-01-31T11:22:13.217041Z"
    },
    "tags": []
   },
   "outputs": [],
   "source": [
    "import pandas as pd"
   ]
  },
  {
   "cell_type": "code",
   "execution_count": 4,
   "id": "80240fbf-a5e0-4c08-9ed5-34a6210d7529",
   "metadata": {
    "execution": {
     "iopub.execute_input": "2022-01-31T11:22:14.631090Z",
     "iopub.status.busy": "2022-01-31T11:22:14.630806Z",
     "iopub.status.idle": "2022-01-31T11:22:16.987295Z",
     "shell.execute_reply": "2022-01-31T11:22:16.986607Z",
     "shell.execute_reply.started": "2022-01-31T11:22:14.631066Z"
    },
    "tags": []
   },
   "outputs": [
    {
     "name": "stdout",
     "output_type": "stream",
     "text": [
      "(169781, 12)\n"
     ]
    },
    {
     "data": {
      "text/html": [
       "<div>\n",
       "<style scoped>\n",
       "    .dataframe tbody tr th:only-of-type {\n",
       "        vertical-align: middle;\n",
       "    }\n",
       "\n",
       "    .dataframe tbody tr th {\n",
       "        vertical-align: top;\n",
       "    }\n",
       "\n",
       "    .dataframe thead th {\n",
       "        text-align: right;\n",
       "    }\n",
       "</style>\n",
       "<table border=\"1\" class=\"dataframe\">\n",
       "  <thead>\n",
       "    <tr style=\"text-align: right;\">\n",
       "      <th></th>\n",
       "      <th>overall</th>\n",
       "      <th>vote</th>\n",
       "      <th>verified</th>\n",
       "      <th>reviewTime</th>\n",
       "      <th>reviewerID</th>\n",
       "      <th>asin</th>\n",
       "      <th>style</th>\n",
       "      <th>reviewerName</th>\n",
       "      <th>reviewText</th>\n",
       "      <th>summary</th>\n",
       "      <th>unixReviewTime</th>\n",
       "      <th>image</th>\n",
       "    </tr>\n",
       "  </thead>\n",
       "  <tbody>\n",
       "    <tr>\n",
       "      <th>0</th>\n",
       "      <td>5.0</td>\n",
       "      <td>3</td>\n",
       "      <td>True</td>\n",
       "      <td>06 3, 2013</td>\n",
       "      <td>A2TYZ821XXK2YZ</td>\n",
       "      <td>3426958910</td>\n",
       "      <td>{'Format:': ' Audio CD'}</td>\n",
       "      <td>Garrett</td>\n",
       "      <td>This is awesome to listen to, A must-have for ...</td>\n",
       "      <td>Slayer Rules!</td>\n",
       "      <td>1370217600</td>\n",
       "      <td>NaN</td>\n",
       "    </tr>\n",
       "    <tr>\n",
       "      <th>1</th>\n",
       "      <td>5.0</td>\n",
       "      <td>NaN</td>\n",
       "      <td>True</td>\n",
       "      <td>10 11, 2014</td>\n",
       "      <td>A3OFSREZADFUDY</td>\n",
       "      <td>3426958910</td>\n",
       "      <td>{'Format:': ' Audio CD'}</td>\n",
       "      <td>Ad</td>\n",
       "      <td>bien</td>\n",
       "      <td>Five Stars</td>\n",
       "      <td>1412985600</td>\n",
       "      <td>NaN</td>\n",
       "    </tr>\n",
       "    <tr>\n",
       "      <th>2</th>\n",
       "      <td>5.0</td>\n",
       "      <td>NaN</td>\n",
       "      <td>True</td>\n",
       "      <td>02 11, 2014</td>\n",
       "      <td>A2VAMODP8M77NG</td>\n",
       "      <td>3426958910</td>\n",
       "      <td>{'Format:': ' Audio CD'}</td>\n",
       "      <td>JTGabq</td>\n",
       "      <td>It was great to hear the old stuff again and I...</td>\n",
       "      <td>SLAYER!!!!!!!!!!!!!!!!!!!!!</td>\n",
       "      <td>1392076800</td>\n",
       "      <td>NaN</td>\n",
       "    </tr>\n",
       "    <tr>\n",
       "      <th>3</th>\n",
       "      <td>4.0</td>\n",
       "      <td>3</td>\n",
       "      <td>False</td>\n",
       "      <td>12 7, 2013</td>\n",
       "      <td>AAKSLZ9IDTEH0</td>\n",
       "      <td>3426958910</td>\n",
       "      <td>{'Format:': ' Audio CD'}</td>\n",
       "      <td>john F&amp;#039;n doe</td>\n",
       "      <td>well best of's are a bit poison normally but t...</td>\n",
       "      <td>slayer greatest hits! you mean everything righ...</td>\n",
       "      <td>1386374400</td>\n",
       "      <td>NaN</td>\n",
       "    </tr>\n",
       "    <tr>\n",
       "      <th>4</th>\n",
       "      <td>5.0</td>\n",
       "      <td>NaN</td>\n",
       "      <td>True</td>\n",
       "      <td>06 12, 2016</td>\n",
       "      <td>A3OH43OZJLKI09</td>\n",
       "      <td>5557706259</td>\n",
       "      <td>{'Format:': ' Audio CD'}</td>\n",
       "      <td>melinda a goodman</td>\n",
       "      <td>What can I say? This is Casting Crowns!!!This ...</td>\n",
       "      <td>This is a good, blessing filled</td>\n",
       "      <td>1465689600</td>\n",
       "      <td>NaN</td>\n",
       "    </tr>\n",
       "  </tbody>\n",
       "</table>\n",
       "</div>"
      ],
      "text/plain": [
       "   overall vote  verified   reviewTime      reviewerID        asin  \\\n",
       "0      5.0    3      True   06 3, 2013  A2TYZ821XXK2YZ  3426958910   \n",
       "1      5.0  NaN      True  10 11, 2014  A3OFSREZADFUDY  3426958910   \n",
       "2      5.0  NaN      True  02 11, 2014  A2VAMODP8M77NG  3426958910   \n",
       "3      4.0    3     False   12 7, 2013   AAKSLZ9IDTEH0  3426958910   \n",
       "4      5.0  NaN      True  06 12, 2016  A3OH43OZJLKI09  5557706259   \n",
       "\n",
       "                      style       reviewerName  \\\n",
       "0  {'Format:': ' Audio CD'}            Garrett   \n",
       "1  {'Format:': ' Audio CD'}                 Ad   \n",
       "2  {'Format:': ' Audio CD'}             JTGabq   \n",
       "3  {'Format:': ' Audio CD'}  john F&#039;n doe   \n",
       "4  {'Format:': ' Audio CD'}  melinda a goodman   \n",
       "\n",
       "                                          reviewText  \\\n",
       "0  This is awesome to listen to, A must-have for ...   \n",
       "1                                               bien   \n",
       "2  It was great to hear the old stuff again and I...   \n",
       "3  well best of's are a bit poison normally but t...   \n",
       "4  What can I say? This is Casting Crowns!!!This ...   \n",
       "\n",
       "                                             summary  unixReviewTime image  \n",
       "0                                      Slayer Rules!      1370217600   NaN  \n",
       "1                                         Five Stars      1412985600   NaN  \n",
       "2                        SLAYER!!!!!!!!!!!!!!!!!!!!!      1392076800   NaN  \n",
       "3  slayer greatest hits! you mean everything righ...      1386374400   NaN  \n",
       "4                    This is a good, blessing filled      1465689600   NaN  "
      ]
     },
     "execution_count": 4,
     "metadata": {},
     "output_type": "execute_result"
    }
   ],
   "source": [
    "import json\n",
    "rows = []\n",
    "for l in open('../data/amazon_music/Digital_Music_5.json'):\n",
    "    rows.append(json.loads(l))\n",
    "\n",
    "df = pd.DataFrame(rows)\n",
    "print(df.shape)\n",
    "df.head()"
   ]
  },
  {
   "cell_type": "code",
   "execution_count": 6,
   "id": "f6d6ebb8-7ae9-49bf-9767-e3f06b8c6196",
   "metadata": {
    "execution": {
     "iopub.execute_input": "2022-01-31T11:22:17.052480Z",
     "iopub.status.busy": "2022-01-31T11:22:17.052249Z",
     "iopub.status.idle": "2022-01-31T11:22:17.059905Z",
     "shell.execute_reply": "2022-01-31T11:22:17.059176Z",
     "shell.execute_reply.started": "2022-01-31T11:22:17.052460Z"
    },
    "tags": []
   },
   "outputs": [
    {
     "data": {
      "text/plain": [
       "5.0    135842\n",
       "4.0     23143\n",
       "3.0      6792\n",
       "1.0      2192\n",
       "2.0      1812\n",
       "Name: overall, dtype: int64"
      ]
     },
     "execution_count": 6,
     "metadata": {},
     "output_type": "execute_result"
    }
   ],
   "source": [
    "df['overall'].value_counts()"
   ]
  },
  {
   "cell_type": "code",
   "execution_count": 7,
   "id": "f8dd46da-e1c3-4d5f-a0ad-77d3ebe9ff18",
   "metadata": {
    "execution": {
     "iopub.execute_input": "2022-01-31T11:22:17.372879Z",
     "iopub.status.busy": "2022-01-31T11:22:17.372596Z",
     "iopub.status.idle": "2022-01-31T11:22:17.459916Z",
     "shell.execute_reply": "2022-01-31T11:22:17.459206Z",
     "shell.execute_reply.started": "2022-01-31T11:22:17.372857Z"
    },
    "tags": []
   },
   "outputs": [
    {
     "data": {
      "text/plain": [
       "(1, 791)"
      ]
     },
     "execution_count": 7,
     "metadata": {},
     "output_type": "execute_result"
    }
   ],
   "source": [
    "df['reviewerID'].value_counts().min(), df['reviewerID'].value_counts().max()"
   ]
  },
  {
   "cell_type": "markdown",
   "id": "c01d2c82-b34b-4dc8-98ab-b310453d30d3",
   "metadata": {},
   "source": [
    "This dataset is meant to be pre-filtered to only include items/users with atleast 5 repeats, yet it seems a little mistakes slipped through. \n",
    "We'll enforce the filters ourselves."
   ]
  },
  {
   "cell_type": "code",
   "execution_count": 8,
   "id": "915cbb56-14ed-431d-be06-1456bd10d300",
   "metadata": {
    "execution": {
     "iopub.execute_input": "2022-01-31T11:22:17.949171Z",
     "iopub.status.busy": "2022-01-31T11:22:17.948889Z",
     "iopub.status.idle": "2022-01-31T11:22:18.021301Z",
     "shell.execute_reply": "2022-01-31T11:22:18.020691Z",
     "shell.execute_reply.started": "2022-01-31T11:22:17.949146Z"
    },
    "tags": []
   },
   "outputs": [
    {
     "data": {
      "text/plain": [
       "(1, 574)"
      ]
     },
     "execution_count": 8,
     "metadata": {},
     "output_type": "execute_result"
    }
   ],
   "source": [
    "df['asin'].value_counts().min(), df['asin'].value_counts().max()"
   ]
  },
  {
   "cell_type": "code",
   "execution_count": 9,
   "id": "d7123fc6-ac31-4f3e-ae72-96574eadd1de",
   "metadata": {
    "execution": {
     "iopub.execute_input": "2022-01-31T11:22:18.212859Z",
     "iopub.status.busy": "2022-01-31T11:22:18.212576Z",
     "iopub.status.idle": "2022-01-31T11:22:18.252066Z",
     "shell.execute_reply": "2022-01-31T11:22:18.251499Z",
     "shell.execute_reply.started": "2022-01-31T11:22:18.212834Z"
    },
    "tags": []
   },
   "outputs": [
    {
     "data": {
      "text/plain": [
       "B00CZF8B68    574\n",
       "B00BWGHIHY    316\n",
       "B00136J7ZE    294\n",
       "B00EH49FRE    283\n",
       "B00136NUG6    262\n",
       "             ... \n",
       "B000W1S2WU      1\n",
       "B00125MGQI      1\n",
       "B001QET6G8      1\n",
       "B001664ADA      1\n",
       "B00138APMQ      1\n",
       "Name: asin, Length: 11797, dtype: int64"
      ]
     },
     "execution_count": 9,
     "metadata": {},
     "output_type": "execute_result"
    }
   ],
   "source": [
    "df['asin'].value_counts()"
   ]
  },
  {
   "cell_type": "code",
   "execution_count": 10,
   "id": "1500baca-9c62-4ab5-8a36-2a0baab180e0",
   "metadata": {
    "execution": {
     "iopub.execute_input": "2022-01-31T11:22:18.496838Z",
     "iopub.status.busy": "2022-01-31T11:22:18.496556Z",
     "iopub.status.idle": "2022-01-31T11:22:18.699273Z",
     "shell.execute_reply": "2022-01-31T11:22:18.698580Z",
     "shell.execute_reply.started": "2022-01-31T11:22:18.496817Z"
    },
    "tags": []
   },
   "outputs": [
    {
     "name": "stdout",
     "output_type": "stream",
     "text": [
      "(168256, 12) (169781, 12)\n"
     ]
    }
   ],
   "source": [
    "item_counts = df['asin'].value_counts()\n",
    "user_counts = df['reviewerID'].value_counts()\n",
    "items_to_remove = item_counts[item_counts < 5].index.tolist()\n",
    "users_to_remove = user_counts[user_counts < 5].index.tolist()\n",
    "\n",
    "filtered_df = df[(~df['asin'].isin(items_to_remove)) & (~df['reviewerID'].isin(users_to_remove))].copy()\n",
    "print(filtered_df.shape, df.shape)"
   ]
  },
  {
   "cell_type": "code",
   "execution_count": 11,
   "id": "83ca5bb3-c366-4531-b178-521e569f073c",
   "metadata": {
    "execution": {
     "iopub.execute_input": "2022-01-31T11:22:19.218908Z",
     "iopub.status.busy": "2022-01-31T11:22:19.218624Z",
     "iopub.status.idle": "2022-01-31T11:22:19.315593Z",
     "shell.execute_reply": "2022-01-31T11:22:19.314940Z",
     "shell.execute_reply.started": "2022-01-31T11:22:19.218885Z"
    },
    "tags": []
   },
   "outputs": [],
   "source": [
    "# Is it actually legit to do filtering?\n",
    "filtered_df = df.copy()\n",
    "\n",
    "# Renaming for ease of matching to ml\n",
    "filtered_df = filtered_df.rename(columns={'asin':'item_id', 'reviewerID':'user_id', 'overall':'rating'})"
   ]
  },
  {
   "cell_type": "markdown",
   "id": "1122361d-0681-46ae-bcdc-720ed0456a09",
   "metadata": {},
   "source": [
    "#### Moving to 0-based indexing\n",
    "\n",
    "It would be easiest if both user ids and item ids were 0-indexed (e.g. for embedding layers later on, etc.)"
   ]
  },
  {
   "cell_type": "code",
   "execution_count": 12,
   "id": "fba3d833-3be2-417f-8aa6-8f0304c775d8",
   "metadata": {
    "execution": {
     "iopub.execute_input": "2022-01-31T11:22:21.079015Z",
     "iopub.status.busy": "2022-01-31T11:22:21.078719Z",
     "iopub.status.idle": "2022-01-31T11:22:21.186086Z",
     "shell.execute_reply": "2022-01-31T11:22:21.185431Z",
     "shell.execute_reply.started": "2022-01-31T11:22:21.078994Z"
    },
    "tags": []
   },
   "outputs": [],
   "source": [
    "user2idx = dict(zip(filtered_df['user_id'].unique().tolist(), range(filtered_df['user_id'].nunique())))"
   ]
  },
  {
   "cell_type": "code",
   "execution_count": 13,
   "id": "0ba6e45b-aa80-4b83-8868-eb36c9a7274c",
   "metadata": {
    "execution": {
     "iopub.execute_input": "2022-01-31T11:22:21.382960Z",
     "iopub.status.busy": "2022-01-31T11:22:21.382667Z",
     "iopub.status.idle": "2022-01-31T11:22:21.483347Z",
     "shell.execute_reply": "2022-01-31T11:22:21.482797Z",
     "shell.execute_reply.started": "2022-01-31T11:22:21.382934Z"
    },
    "tags": []
   },
   "outputs": [],
   "source": [
    "item2idx = dict(zip(filtered_df['item_id'].unique().tolist(), range(filtered_df['item_id'].nunique())))"
   ]
  },
  {
   "cell_type": "code",
   "execution_count": 14,
   "id": "f67121d0-1d44-4c9e-8f16-39926ee6b562",
   "metadata": {
    "execution": {
     "iopub.execute_input": "2022-01-31T11:22:21.676992Z",
     "iopub.status.busy": "2022-01-31T11:22:21.676702Z",
     "iopub.status.idle": "2022-01-31T11:22:21.892463Z",
     "shell.execute_reply": "2022-01-31T11:22:21.891909Z",
     "shell.execute_reply.started": "2022-01-31T11:22:21.676968Z"
    },
    "tags": []
   },
   "outputs": [],
   "source": [
    "filtered_df['user_id'] = filtered_df['user_id'].apply(user2idx.get)\n",
    "filtered_df['item_id'] = filtered_df['item_id'].apply(item2idx.get)"
   ]
  },
  {
   "cell_type": "code",
   "execution_count": 15,
   "id": "488c6000-89c8-46b4-909b-a75d80b970e9",
   "metadata": {
    "execution": {
     "iopub.execute_input": "2022-01-31T11:22:21.933048Z",
     "iopub.status.busy": "2022-01-31T11:22:21.932750Z",
     "iopub.status.idle": "2022-01-31T11:22:21.949512Z",
     "shell.execute_reply": "2022-01-31T11:22:21.948922Z",
     "shell.execute_reply.started": "2022-01-31T11:22:21.933023Z"
    },
    "tags": []
   },
   "outputs": [
    {
     "data": {
      "text/html": [
       "<div>\n",
       "<style scoped>\n",
       "    .dataframe tbody tr th:only-of-type {\n",
       "        vertical-align: middle;\n",
       "    }\n",
       "\n",
       "    .dataframe tbody tr th {\n",
       "        vertical-align: top;\n",
       "    }\n",
       "\n",
       "    .dataframe thead th {\n",
       "        text-align: right;\n",
       "    }\n",
       "</style>\n",
       "<table border=\"1\" class=\"dataframe\">\n",
       "  <thead>\n",
       "    <tr style=\"text-align: right;\">\n",
       "      <th></th>\n",
       "      <th>rating</th>\n",
       "      <th>vote</th>\n",
       "      <th>verified</th>\n",
       "      <th>reviewTime</th>\n",
       "      <th>user_id</th>\n",
       "      <th>item_id</th>\n",
       "      <th>style</th>\n",
       "      <th>reviewerName</th>\n",
       "      <th>reviewText</th>\n",
       "      <th>summary</th>\n",
       "      <th>unixReviewTime</th>\n",
       "      <th>image</th>\n",
       "    </tr>\n",
       "  </thead>\n",
       "  <tbody>\n",
       "    <tr>\n",
       "      <th>0</th>\n",
       "      <td>5.0</td>\n",
       "      <td>3</td>\n",
       "      <td>True</td>\n",
       "      <td>06 3, 2013</td>\n",
       "      <td>0</td>\n",
       "      <td>0</td>\n",
       "      <td>{'Format:': ' Audio CD'}</td>\n",
       "      <td>Garrett</td>\n",
       "      <td>This is awesome to listen to, A must-have for ...</td>\n",
       "      <td>Slayer Rules!</td>\n",
       "      <td>1370217600</td>\n",
       "      <td>NaN</td>\n",
       "    </tr>\n",
       "    <tr>\n",
       "      <th>1</th>\n",
       "      <td>5.0</td>\n",
       "      <td>NaN</td>\n",
       "      <td>True</td>\n",
       "      <td>10 11, 2014</td>\n",
       "      <td>1</td>\n",
       "      <td>0</td>\n",
       "      <td>{'Format:': ' Audio CD'}</td>\n",
       "      <td>Ad</td>\n",
       "      <td>bien</td>\n",
       "      <td>Five Stars</td>\n",
       "      <td>1412985600</td>\n",
       "      <td>NaN</td>\n",
       "    </tr>\n",
       "    <tr>\n",
       "      <th>2</th>\n",
       "      <td>5.0</td>\n",
       "      <td>NaN</td>\n",
       "      <td>True</td>\n",
       "      <td>02 11, 2014</td>\n",
       "      <td>2</td>\n",
       "      <td>0</td>\n",
       "      <td>{'Format:': ' Audio CD'}</td>\n",
       "      <td>JTGabq</td>\n",
       "      <td>It was great to hear the old stuff again and I...</td>\n",
       "      <td>SLAYER!!!!!!!!!!!!!!!!!!!!!</td>\n",
       "      <td>1392076800</td>\n",
       "      <td>NaN</td>\n",
       "    </tr>\n",
       "    <tr>\n",
       "      <th>3</th>\n",
       "      <td>4.0</td>\n",
       "      <td>3</td>\n",
       "      <td>False</td>\n",
       "      <td>12 7, 2013</td>\n",
       "      <td>3</td>\n",
       "      <td>0</td>\n",
       "      <td>{'Format:': ' Audio CD'}</td>\n",
       "      <td>john F&amp;#039;n doe</td>\n",
       "      <td>well best of's are a bit poison normally but t...</td>\n",
       "      <td>slayer greatest hits! you mean everything righ...</td>\n",
       "      <td>1386374400</td>\n",
       "      <td>NaN</td>\n",
       "    </tr>\n",
       "    <tr>\n",
       "      <th>4</th>\n",
       "      <td>5.0</td>\n",
       "      <td>NaN</td>\n",
       "      <td>True</td>\n",
       "      <td>06 12, 2016</td>\n",
       "      <td>4</td>\n",
       "      <td>1</td>\n",
       "      <td>{'Format:': ' Audio CD'}</td>\n",
       "      <td>melinda a goodman</td>\n",
       "      <td>What can I say? This is Casting Crowns!!!This ...</td>\n",
       "      <td>This is a good, blessing filled</td>\n",
       "      <td>1465689600</td>\n",
       "      <td>NaN</td>\n",
       "    </tr>\n",
       "    <tr>\n",
       "      <th>5</th>\n",
       "      <td>4.0</td>\n",
       "      <td>NaN</td>\n",
       "      <td>True</td>\n",
       "      <td>11 19, 2015</td>\n",
       "      <td>5</td>\n",
       "      <td>1</td>\n",
       "      <td>{'Format:': ' Audio CD'}</td>\n",
       "      <td>Sylvia Arrowood</td>\n",
       "      <td>Enjoy Casting Crowns and their songs</td>\n",
       "      <td>Four Stars</td>\n",
       "      <td>1447891200</td>\n",
       "      <td>NaN</td>\n",
       "    </tr>\n",
       "    <tr>\n",
       "      <th>6</th>\n",
       "      <td>5.0</td>\n",
       "      <td>NaN</td>\n",
       "      <td>True</td>\n",
       "      <td>06 6, 2015</td>\n",
       "      <td>6</td>\n",
       "      <td>1</td>\n",
       "      <td>{'Format:': ' Audio CD'}</td>\n",
       "      <td>M Holley</td>\n",
       "      <td>Another very inspirational collection by a Ver...</td>\n",
       "      <td>Can't say enough.  Great Christian music.  God...</td>\n",
       "      <td>1433548800</td>\n",
       "      <td>NaN</td>\n",
       "    </tr>\n",
       "    <tr>\n",
       "      <th>7</th>\n",
       "      <td>5.0</td>\n",
       "      <td>NaN</td>\n",
       "      <td>False</td>\n",
       "      <td>12 9, 2008</td>\n",
       "      <td>7</td>\n",
       "      <td>1</td>\n",
       "      <td>{'Format:': ' MP3 Music'}</td>\n",
       "      <td>PacificHype</td>\n",
       "      <td>I love the song Slow Fade by Casting Crowns, e...</td>\n",
       "      <td>DEFINITELY DESERVES PERFECT STARS!!!!</td>\n",
       "      <td>1228780800</td>\n",
       "      <td>NaN</td>\n",
       "    </tr>\n",
       "    <tr>\n",
       "      <th>8</th>\n",
       "      <td>5.0</td>\n",
       "      <td>NaN</td>\n",
       "      <td>False</td>\n",
       "      <td>10 7, 2008</td>\n",
       "      <td>8</td>\n",
       "      <td>1</td>\n",
       "      <td>{'Format:': ' MP3 Music'}</td>\n",
       "      <td>Sergio</td>\n",
       "      <td>This is an awesome album from the amazing Chri...</td>\n",
       "      <td>Can't go wrong with Casting Crowns</td>\n",
       "      <td>1223337600</td>\n",
       "      <td>NaN</td>\n",
       "    </tr>\n",
       "    <tr>\n",
       "      <th>9</th>\n",
       "      <td>5.0</td>\n",
       "      <td>NaN</td>\n",
       "      <td>False</td>\n",
       "      <td>09 3, 2008</td>\n",
       "      <td>9</td>\n",
       "      <td>1</td>\n",
       "      <td>{'Format:': ' Audio CD'}</td>\n",
       "      <td>Daniel T. Hughes</td>\n",
       "      <td>I can't believe I haven't written a review for...</td>\n",
       "      <td>Great music, but even better if you see them l...</td>\n",
       "      <td>1220400000</td>\n",
       "      <td>NaN</td>\n",
       "    </tr>\n",
       "  </tbody>\n",
       "</table>\n",
       "</div>"
      ],
      "text/plain": [
       "   rating vote  verified   reviewTime  user_id  item_id  \\\n",
       "0     5.0    3      True   06 3, 2013        0        0   \n",
       "1     5.0  NaN      True  10 11, 2014        1        0   \n",
       "2     5.0  NaN      True  02 11, 2014        2        0   \n",
       "3     4.0    3     False   12 7, 2013        3        0   \n",
       "4     5.0  NaN      True  06 12, 2016        4        1   \n",
       "5     4.0  NaN      True  11 19, 2015        5        1   \n",
       "6     5.0  NaN      True   06 6, 2015        6        1   \n",
       "7     5.0  NaN     False   12 9, 2008        7        1   \n",
       "8     5.0  NaN     False   10 7, 2008        8        1   \n",
       "9     5.0  NaN     False   09 3, 2008        9        1   \n",
       "\n",
       "                       style       reviewerName  \\\n",
       "0   {'Format:': ' Audio CD'}            Garrett   \n",
       "1   {'Format:': ' Audio CD'}                 Ad   \n",
       "2   {'Format:': ' Audio CD'}             JTGabq   \n",
       "3   {'Format:': ' Audio CD'}  john F&#039;n doe   \n",
       "4   {'Format:': ' Audio CD'}  melinda a goodman   \n",
       "5   {'Format:': ' Audio CD'}    Sylvia Arrowood   \n",
       "6   {'Format:': ' Audio CD'}           M Holley   \n",
       "7  {'Format:': ' MP3 Music'}        PacificHype   \n",
       "8  {'Format:': ' MP3 Music'}             Sergio   \n",
       "9   {'Format:': ' Audio CD'}   Daniel T. Hughes   \n",
       "\n",
       "                                          reviewText  \\\n",
       "0  This is awesome to listen to, A must-have for ...   \n",
       "1                                               bien   \n",
       "2  It was great to hear the old stuff again and I...   \n",
       "3  well best of's are a bit poison normally but t...   \n",
       "4  What can I say? This is Casting Crowns!!!This ...   \n",
       "5               Enjoy Casting Crowns and their songs   \n",
       "6  Another very inspirational collection by a Ver...   \n",
       "7  I love the song Slow Fade by Casting Crowns, e...   \n",
       "8  This is an awesome album from the amazing Chri...   \n",
       "9  I can't believe I haven't written a review for...   \n",
       "\n",
       "                                             summary  unixReviewTime image  \n",
       "0                                      Slayer Rules!      1370217600   NaN  \n",
       "1                                         Five Stars      1412985600   NaN  \n",
       "2                        SLAYER!!!!!!!!!!!!!!!!!!!!!      1392076800   NaN  \n",
       "3  slayer greatest hits! you mean everything righ...      1386374400   NaN  \n",
       "4                    This is a good, blessing filled      1465689600   NaN  \n",
       "5                                         Four Stars      1447891200   NaN  \n",
       "6  Can't say enough.  Great Christian music.  God...      1433548800   NaN  \n",
       "7              DEFINITELY DESERVES PERFECT STARS!!!!      1228780800   NaN  \n",
       "8                 Can't go wrong with Casting Crowns      1223337600   NaN  \n",
       "9  Great music, but even better if you see them l...      1220400000   NaN  "
      ]
     },
     "execution_count": 15,
     "metadata": {},
     "output_type": "execute_result"
    }
   ],
   "source": [
    "filtered_df.head(10)"
   ]
  },
  {
   "cell_type": "code",
   "execution_count": 16,
   "id": "1e8a4222-35b8-41a4-8ab6-1569a6b58ccf",
   "metadata": {
    "execution": {
     "iopub.execute_input": "2022-01-31T11:22:22.617777Z",
     "iopub.status.busy": "2022-01-31T11:22:22.617485Z",
     "iopub.status.idle": "2022-01-31T11:22:22.626486Z",
     "shell.execute_reply": "2022-01-31T11:22:22.625810Z",
     "shell.execute_reply.started": "2022-01-31T11:22:22.617755Z"
    },
    "tags": []
   },
   "outputs": [
    {
     "data": {
      "text/plain": [
       "user_id    False\n",
       "item_id    False\n",
       "dtype: bool"
      ]
     },
     "execution_count": 16,
     "metadata": {},
     "output_type": "execute_result"
    }
   ],
   "source": [
    "filtered_df[['user_id', 'item_id']].isnull().max()"
   ]
  },
  {
   "cell_type": "code",
   "execution_count": 17,
   "id": "dc6889fc-37e8-482e-b198-4fa14bfe0bd4",
   "metadata": {
    "execution": {
     "iopub.execute_input": "2022-01-31T11:22:23.635020Z",
     "iopub.status.busy": "2022-01-31T11:22:23.634722Z",
     "iopub.status.idle": "2022-01-31T11:22:23.642963Z",
     "shell.execute_reply": "2022-01-31T11:22:23.642300Z",
     "shell.execute_reply.started": "2022-01-31T11:22:23.634997Z"
    },
    "tags": []
   },
   "outputs": [
    {
     "data": {
      "text/plain": [
       "(16565, 16566)"
      ]
     },
     "execution_count": 17,
     "metadata": {},
     "output_type": "execute_result"
    }
   ],
   "source": [
    "filtered_df['user_id'].max(), filtered_df['user_id'].nunique()"
   ]
  },
  {
   "cell_type": "code",
   "execution_count": 18,
   "id": "924fc52b-5baf-4a00-99aa-3a1d67ad58a4",
   "metadata": {
    "execution": {
     "iopub.execute_input": "2022-01-31T11:22:24.909038Z",
     "iopub.status.busy": "2022-01-31T11:22:24.908758Z",
     "iopub.status.idle": "2022-01-31T11:22:24.915142Z",
     "shell.execute_reply": "2022-01-31T11:22:24.914614Z",
     "shell.execute_reply.started": "2022-01-31T11:22:24.909012Z"
    },
    "tags": []
   },
   "outputs": [
    {
     "data": {
      "text/plain": [
       "(11796, 11797)"
      ]
     },
     "execution_count": 18,
     "metadata": {},
     "output_type": "execute_result"
    }
   ],
   "source": [
    "filtered_df['item_id'].max(), filtered_df['item_id'].nunique()"
   ]
  },
  {
   "cell_type": "markdown",
   "id": "c91dee6a-d7d3-4150-b3df-8ddadc999f19",
   "metadata": {},
   "source": [
    "#### Saving preprocessed dataset and preprocessing metadata"
   ]
  },
  {
   "cell_type": "code",
   "execution_count": 19,
   "id": "282e7669-6122-4d04-bce5-d4281fb6eec0",
   "metadata": {
    "execution": {
     "iopub.execute_input": "2022-01-31T11:22:29.323026Z",
     "iopub.status.busy": "2022-01-31T11:22:29.322726Z",
     "iopub.status.idle": "2022-01-31T11:22:29.719648Z",
     "shell.execute_reply": "2022-01-31T11:22:29.719088Z",
     "shell.execute_reply.started": "2022-01-31T11:22:29.322998Z"
    },
    "tags": []
   },
   "outputs": [],
   "source": [
    "filtered_df[['user_id', 'item_id', 'rating']].to_csv('../data/am_preprocessed.csv', index=False)\n",
    "json.dump({'user2idx':user2idx, 'item2idx':item2idx}, open('../data/am_preprocessing_metadata.json', 'w'))"
   ]
  }
 ],
 "metadata": {
  "kernelspec": {
   "display_name": "Python 3 (ipykernel)",
   "language": "python",
   "name": "python3"
  },
  "language_info": {
   "codemirror_mode": {
    "name": "ipython",
    "version": 3
   },
   "file_extension": ".py",
   "mimetype": "text/x-python",
   "name": "python",
   "nbconvert_exporter": "python",
   "pygments_lexer": "ipython3",
   "version": "3.9.7"
  }
 },
 "nbformat": 4,
 "nbformat_minor": 5
}
